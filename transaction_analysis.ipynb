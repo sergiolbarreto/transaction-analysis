{
  "cells": [
    {
      "cell_type": "markdown",
      "id": "9d2ac3ac",
      "metadata": {
        "id": "9d2ac3ac"
      },
      "source": [
        "\n",
        "# Transaction Analysis\n",
        "\n",
        "**Conteúdo:**\n",
        "1. Carregamento e normalização dos dados  \n",
        "2. Seção 1 — Estatísticas e sazonalidade  \n",
        "3. Seção 2 — Identificação de padrões e outliers  \n",
        "4. Seção 3 — Proposta de ferramenta acionável (fluxo de alertas)  \n",
        "5. Seção 4 — Métrica calculável por sistema (código + JSON)  "
      ]
    },
    {
      "cell_type": "code",
      "execution_count": null,
      "id": "f19de0bd",
      "metadata": {
        "id": "f19de0bd"
      },
      "outputs": [],
      "source": [
        "import os, io, math, shutil, zipfile, textwrap\n",
        "from datetime import datetime\n",
        "import pandas as pd\n",
        "import numpy as np\n",
        "import matplotlib.pyplot as plt\n",
        "\n",
        "# Paths\n",
        "BASE = \"\"\n",
        "CSV_PATH = f\"{BASE}/transactions.csv\"\n",
        "\n",
        "# Diretórios criados diretamente na raiz do projeto\n",
        "ANALYSIS_DIR = os.path.join(BASE, \"analysis\")\n",
        "PROPOSAL_DIR = os.path.join(BASE, \"proposal\")\n",
        "CODE_DIR = os.path.join(BASE, \"code\")\n",
        "ASSETS_DIR = os.path.join(BASE, \"assets\")\n",
        "\n",
        "# Cria todos os diretórios, se não existirem\n",
        "for d in [ANALYSIS_DIR, PROPOSAL_DIR, CODE_DIR, ASSETS_DIR]:\n",
        "    os.makedirs(d, exist_ok=True)"
      ]
    },
    {
      "cell_type": "markdown",
      "id": "8d735bd8",
      "metadata": {
        "id": "8d735bd8"
      },
      "source": [
        "## 1) Carregamento e normalização"
      ]
    },
    {
      "cell_type": "code",
      "execution_count": null,
      "id": "5605489e",
      "metadata": {
        "id": "5605489e"
      },
      "outputs": [],
      "source": [
        "\n",
        "# Carregar\n",
        "df = pd.read_csv(CSV_PATH)\n",
        "\n",
        "# Normalizar nomes\n",
        "df.columns = [c.strip().lower() for c in df.columns]\n",
        "\n",
        "# Tipos\n",
        "if \"date\" in df.columns:\n",
        "    df[\"date\"] = pd.to_datetime(df[\"date\"], errors=\"coerce\")\n",
        "if \"amount\" in df.columns:\n",
        "    df[\"amount\"] = pd.to_numeric(df[\"amount\"], errors=\"coerce\")\n",
        "\n",
        "# Manter linhas válidas\n",
        "df = df.dropna(subset=[\"date\", \"amount\"]).copy()\n",
        "df.head()\n"
      ]
    },
    {
      "cell_type": "markdown",
      "id": "418505da",
      "metadata": {
        "id": "418505da"
      },
      "source": [
        "## 2) Seção 1 — Estatísticas e Sazonalidade"
      ]
    },
    {
      "cell_type": "code",
      "execution_count": null,
      "id": "714383c5",
      "metadata": {
        "id": "714383c5"
      },
      "outputs": [],
      "source": [
        "\n",
        "# Estatísticas por categoria\n",
        "stats_by_cat = (\n",
        "    df.groupby(\"category\")[\"amount\"]\n",
        "      .agg(mean=\"mean\", median=\"median\", std=\"std\", count=\"count\", sum=\"sum\")\n",
        "      .sort_values(\"sum\", ascending=False)\n",
        "      .reset_index()\n",
        ")\n",
        "display(stats_by_cat.head(20))\n",
        "\n",
        "# Totais mensais\n",
        "df[\"year_month\"] = df[\"date\"].dt.to_period(\"M\").astype(str)\n",
        "monthly_totals = (df.groupby(\"year_month\")[\"amount\"]\n",
        "                    .sum()\n",
        "                    .reset_index()\n",
        "                    .rename(columns={\"amount\": \"total_spend\"}))\n",
        "display(monthly_totals.head())\n",
        "\n",
        "# Gráfico de sazonalidade\n",
        "plt.figure(figsize=(9,4.5))\n",
        "plt.plot(pd.to_datetime(monthly_totals[\"year_month\"]), monthly_totals[\"total_spend\"], marker=\"o\")\n",
        "plt.title(\"Gastos totais por mês\")\n",
        "plt.xlabel(\"Mês\"); plt.ylabel(\"Total gasto\"); plt.tight_layout()\n",
        "seasonality_png = os.path.join(ASSETS_DIR, \"seasonality.png\")\n",
        "plt.savefig(seasonality_png, dpi=160)\n",
        "plt.show()\n",
        "plt.close()\n",
        "\n",
        "# Salvar artefatos\n",
        "stats_by_cat_path = os.path.join(ANALYSIS_DIR, \"stats_by_category.csv\")\n",
        "monthly_totals_path = os.path.join(ANALYSIS_DIR, \"monthly_totals.csv\")\n",
        "stats_by_cat.to_csv(stats_by_cat_path, index=False)\n",
        "monthly_totals.to_csv(monthly_totals_path, index=False)\n",
        "\n",
        "stats_by_cat_path, monthly_totals_path, seasonality_png\n"
      ]
    },
    {
      "cell_type": "markdown",
      "id": "6d4e6f35",
      "metadata": {
        "id": "6d4e6f35"
      },
      "source": [
        "## 3) Seção 2 — Padrões e Outliers"
      ]
    },
    {
      "cell_type": "code",
      "execution_count": null,
      "id": "f4e07930",
      "metadata": {
        "id": "f4e07930"
      },
      "outputs": [],
      "source": [
        "# Calcular o coeficiente de variação (CV) por categoria\n",
        "stats_by_cat[\"cv\"] = stats_by_cat[\"std\"] / (stats_by_cat[\"mean\"].replace(0, np.nan))\n",
        "var_df = stats_by_cat.dropna(subset=[\"cv\"]).sort_values(\"cv\", ascending=False)\n",
        "top_var = var_df.head(5)\n",
        "\n",
        "print(\"📊 Categorias com maior variabilidade de gasto:\")\n",
        "display(top_var[[\"category\", \"mean\", \"std\", \"cv\", \"count\", \"sum\"]])\n",
        "\n",
        "# Função para detectar outliers usando o método IQR\n",
        "def iqr_bounds(x):\n",
        "    q1, q3 = x.quantile(0.25), x.quantile(0.75)\n",
        "    iqr = q3 - q1\n",
        "    return q1 - 1.5 * iqr, q3 + 1.5 * iqr\n",
        "\n",
        "# Detectar e registrar outliers por categoria\n",
        "outliers = []\n",
        "for cat, sub in df.groupby(\"category\"):\n",
        "    if len(sub) < 8:\n",
        "        continue\n",
        "    low, up = iqr_bounds(sub[\"amount\"])\n",
        "    mask = (sub[\"amount\"] < low) | (sub[\"amount\"] > up)\n",
        "    if mask.any():\n",
        "        flagged = sub.loc[mask, [\"date\", \"category\", \"merchant\", \"amount\"]].copy()\n",
        "        flagged[\"lower_bound\"] = low\n",
        "        flagged[\"upper_bound\"] = up\n",
        "        outliers.append(flagged)\n",
        "\n",
        "outliers_df = (\n",
        "    pd.concat(outliers, ignore_index=True)\n",
        "    if outliers\n",
        "    else pd.DataFrame(columns=[\"date\", \"category\", \"merchant\", \"amount\", \"lower_bound\", \"upper_bound\"])\n",
        ")\n",
        "\n",
        "# Ordenar e limitar aos 10 outliers mais extremos\n",
        "if not outliers_df.empty:\n",
        "    outliers_df[\"distance\"] = outliers_df.apply(\n",
        "        lambda r: min(abs(r[\"amount\"] - r[\"lower_bound\"]), abs(r[\"upper_bound\"] - r[\"amount\"])),\n",
        "        axis=1\n",
        "    )\n",
        "    outliers_df = outliers_df.sort_values(\"distance\", ascending=False).head(10)\n",
        "\n",
        "# Exibir resultados\n",
        "if outliers_df.empty:\n",
        "    print(\"⚠️ Nenhum outlier relevante identificado pelo critério IQR.\")\n",
        "else:\n",
        "    print(f\"⚠️ Foram detectados outliers em {outliers_df['category'].nunique()} categorias.\")\n",
        "    print(\"Principais categorias com outliers:\")\n",
        "    print(outliers_df['category'].unique()[:10])\n",
        "    display(outliers_df)\n",
        "\n",
        "# Salvar resultados\n",
        "outliers_path = os.path.join(ANALYSIS_DIR, \"top_outliers.csv\")\n",
        "top_var_path = os.path.join(ANALYSIS_DIR, \"stats_variability.csv\")\n",
        "var_df.to_csv(top_var_path, index=False)\n",
        "\n",
        "print(f\"\\nArquivos salvos:\\n- {top_var_path}\\n- {outliers_path}\")"
      ]
    },
    {
      "cell_type": "markdown",
      "id": "3d93d9a0",
      "metadata": {
        "id": "3d93d9a0"
      },
      "source": [
        "## 4) Relatório"
      ]
    },
    {
      "cell_type": "markdown",
      "id": "oMvAR1y_qPsH",
      "metadata": {
        "id": "oMvAR1y_qPsH"
      },
      "source": [
        "A análise das transações revelou variações expressivas em determinadas categorias de gasto.  \n",
        "As categorias com maior variabilidade (coeficiente de variação — CV) foram:\n",
        "\n",
        "- **Transferência – PIX** (CV = 4.29, média =  482,75, desvio =  2.071,35)  \n",
        "- **Transferência – Câmbio** (CV = 1.18, média =  2.098,89, desvio =  2.471,38)  \n",
        "- **Transferência – TED** (CV = 0.73, média =  96,62, desvio =  70,40)\n",
        "\n",
        "Esses resultados indicam comportamento financeiro mais volátil, com transações pontuais de valores elevados que afetam a estabilidade mensal.\n",
        "\n",
        "Além disso, foram identificados **outliers** nas seguintes categorias:\n",
        "\n",
        "- **Transferência - PIX**\n",
        "- **Transferência entre contas de mesma titularidade**\n",
        "- **Serviços**\n",
        "- **Compras**\n",
        "\n",
        "Essas categorias apresentam **movimentações isoladas com valores significativamente acima da média**.  \n",
        "Os casos podem estar relacionados a **operações não recorrentes**, como **transferências de grande valor** ou **pagamentos extraordinários**, que **distorcem o padrão estatístico de consumo** e **devem ser monitorados** em análises de comportamento financeiro.\n",
        "\n",
        "\n",
        "Para melhorar o acompanhamento das finanças, propõem-se duas métricas:  \n",
        "(1) **Overspend Index (OI)** — compara o gasto atual com a média dos três meses anteriores, permitindo identificar picos de gasto;  \n",
        "(2) **Large Transaction Z-Score (LTZ)** — quantifica o desvio de uma transação em relação à média histórica da categoria.\n",
        "\n",
        "Essas métricas permitem a criação de alertas automáticos e relatórios inteligentes de comportamento de consumo, favorecendo a gestão financeira e o planejamento pessoal.\n",
        "\n",
        "---\n",
        "\n",
        "## 🧮 Definição Formal das Métricas\n",
        "\n",
        "### 1. Overspend Index (OI)\n",
        "\n",
        "**Fórmula:**\n",
        "\\[\n",
        "OI_t = \\frac{Gasto_t}{\\epsilon + \\text{Média}(Gasto_{t-1}, Gasto_{t-2}, Gasto_{t-3})}\n",
        "\\]\n",
        "\n",
        "**Interpretação:**\n",
        "- \\( OI > 1.25 \\) → gasto 25 % acima da média recente  \n",
        "- \\( OI < 0.75 \\) → queda acentuada no consumo  \n",
        "\n",
        "---\n",
        "\n",
        "### 2. Large Transaction Z-Score (LTZ)\n",
        "\n",
        "**Fórmula:**\n",
        "\\[\n",
        "LTZ = \\frac{Valor - \\mu_{\\text{categoria}}}{\\sigma_{\\text{categoria}} + \\epsilon}\n",
        "\\]\n",
        "\n",
        "**Interpretação:**\n",
        "- \\( |LTZ| \\ge 3 \\) → transação atípica  \n",
        "- Permite detectar gastos muito acima (ou abaixo) do padrão da categoria\n"
      ]
    },
    {
      "cell_type": "markdown",
      "id": "50bea783",
      "metadata": {
        "id": "50bea783"
      },
      "source": [
        "## 5) Seção 3 — Proposta de Ferramenta Acionável (Fluxo de Alertas)"
      ]
    },
    {
      "cell_type": "markdown",
      "id": "ndScGUPMz-6e",
      "metadata": {
        "id": "ndScGUPMz-6e"
      },
      "source": [
        "### Fluxo de Interação\n",
        "\n",
        "1. **Coleta diária de transações**  \n",
        "   - O sistema importa automaticamente as novas movimentações do usuário (ex: app bancário ou plataforma de controle financeiro).  \n",
        "\n",
        "2. **Cálculo automático das métricas**  \n",
        "   - Para cada categoria e transação:\n",
        "     - Calcula o **Overspend Index (OI)** → compara o gasto atual com a média dos 3 meses anteriores.  \n",
        "     - Calcula o **Large Transaction Z-Score (LTZ)** → identifica transações muito acima do padrão da categoria.  \n",
        "\n",
        "3. **Detecção de eventos anômalos**  \n",
        "   - Se **OI > 1.25**, o sistema detecta pico de gasto.  \n",
        "   - Se **|LTZ| ≥ 3**, o sistema detecta transação atípica.  \n",
        "\n",
        "4. **Geração de alerta**  \n",
        "   - O sistema envia **notificação push ou e-mail** imediatamente após a detecção (ou em resumo diário).  \n",
        "\n",
        "5. **Visualização no painel**  \n",
        "   - O usuário acessa um painel que exibe:\n",
        "     - Categoria afetada  \n",
        "     - Valor gasto e média anterior  \n",
        "     - Tipo de alerta (pico de gasto / transação fora do padrão)  \n",
        "     - Sugestão de ação (ex: revisar assinatura, confirmar despesa, ajustar orçamento)\n",
        "\n",
        "6. **Ação do usuário**  \n",
        "   - O usuário pode **confirmar** a despesa como legítima, **categorizar** novamente, ou **definir novo limite**.\n",
        "\n",
        "---\n",
        "\n",
        "### ⚙️ Parâmetros Configuráveis\n",
        "\n",
        "- **Limite de OI**: valor de alerta (ex: 1.25 padrão, ajustável pelo usuário).  \n",
        "- **Limite de LTZ**: nível de sensibilidade (ex: 2.5, 3.0).  \n",
        "- **Frequência de alertas**: imediata, diária ou semanal.  \n",
        "- **Categorias monitoradas**: o usuário pode ativar/desativar alertas por tipo de gasto.  \n",
        "- **Canal de notificação**: e-mail, push, SMS.\n",
        "\n",
        "---\n",
        "\n",
        "### 💬 Exemplo de Alerta ao Usuário\n",
        "\n",
        "> **📈 Alerta de Gasto Atípico — Transferência PIX**  \n",
        "> Seu gasto com **Transferência - PIX** neste mês está **4,2× acima da média recente**.  \n",
        ">\n",
        "> 💰 **Valor:** R$ 2.480,00  \n",
        "> 📅 **Média dos 3 últimos meses:** R$ 590,00  \n",
        "> ⚠️ Esse aumento pode indicar uma transação pontual ou um novo padrão de consumo.  \n",
        ">\n",
        "> ➜ **Sugestão:** revise a transação e, se for um gasto recorrente, atualize seu limite de categoria."
      ]
    },
    {
      "cell_type": "markdown",
      "id": "bd98710c",
      "metadata": {
        "id": "bd98710c"
      },
      "source": [
        "## 6) Seção 4 — Métrica calculável por sistema (código + JSON)"
      ]
    },
    {
      "cell_type": "code",
      "execution_count": null,
      "id": "qc6TTeBi1FqD",
      "metadata": {
        "id": "qc6TTeBi1FqD"
      },
      "outputs": [],
      "source": [
        "import pandas as pd\n",
        "import json\n",
        "\n",
        "def detect_unstable_categories(csv_path, inactive_threshold=10.0):\n",
        "    \"\"\"\n",
        "    Detecta categorias com comportamento não estável do Índice de Gasto Excessivo (Overspend Index - OI) a partir de um arquivo CSV de transações.\n",
        "\n",
        "    Uma categoria é classificada como:\n",
        "        - \"upward\"   → OI > 1.05 (aumento de gastos)\n",
        "        - \"downward\" → OI < 0.95 (redução de gastos)\n",
        "        - \"inactive\" → gasto total do último mês < inactive_threshold\n",
        "        - \"stable\"   → caso contrário (não retornada aqui)\n",
        "\n",
        "    Parâmetros:\n",
        "        csv_path (str): Caminho do arquivo CSV de transações.\n",
        "        inactive_threshold (float): Gasto mínimo mensal para considerar uma categoria ativa.\n",
        "\n",
        "    Retorna:\n",
        "        String JSON contendo apenas as categorias não estáveis.\n",
        "    \"\"\"\n",
        "\n",
        "    epsilon = 1e-9\n",
        "\n",
        "    # Carregar e pré-processar os dados\n",
        "    df = pd.read_csv(csv_path)\n",
        "    df['date'] = pd.to_datetime(df['date'], format='mixed', errors='coerce')\n",
        "\n",
        "    # Manter apenas transações de débito (saídas)\n",
        "    df = df[df['amount'] < 0].copy()\n",
        "    df['amount'] = df['amount'].abs()\n",
        "\n",
        "    # Extrair o ano e mês\n",
        "    df['year_month'] = df['date'].dt.to_period('M')\n",
        "\n",
        "    # Calcular o gasto mensal por categoria\n",
        "    monthly = (\n",
        "        df.groupby(['category', 'year_month'])['amount']\n",
        "        .sum()\n",
        "        .reset_index()\n",
        "        .sort_values(['category', 'year_month'])\n",
        "    )\n",
        "\n",
        "    # Calcular a média móvel dos últimos 3 meses\n",
        "    monthly['rolling_mean'] = (\n",
        "        monthly.groupby('category')['amount']\n",
        "        .apply(lambda x: x.shift(1).rolling(3, min_periods=3).mean())\n",
        "        .reset_index(level=0, drop=True)\n",
        "    )\n",
        "\n",
        "    # Calcular o Índice de Gasto Excessivo (Overspend Index - OI)\n",
        "    monthly['OI'] = monthly['amount'] / (monthly['rolling_mean'] + epsilon)\n",
        "\n",
        "    # Selecionar o registro mais recente de cada categoria\n",
        "    latest = monthly.groupby('category').tail(1).copy()\n",
        "\n",
        "    # Classificar a tendência de forma segura\n",
        "    def classify_trend(row):\n",
        "        if row['amount'] < inactive_threshold:\n",
        "            return \"inactive\"\n",
        "        elif row['OI'] > 1.05:\n",
        "            return \"upward\"\n",
        "        elif row['OI'] < 0.95:\n",
        "            return \"downward\"\n",
        "        else:\n",
        "            return \"stable\"\n",
        "\n",
        "    latest.loc[:, 'trend'] = latest.apply(classify_trend, axis=1)\n",
        "\n",
        "    # Manter apenas categorias não estáveis\n",
        "    unstable = latest[latest['trend'] != 'stable']\n",
        "\n",
        "    # Construir a lista de resultados\n",
        "    results = []\n",
        "    for _, row in unstable.iterrows():\n",
        "        results.append({\n",
        "            \"metric_name\": \"Overspend Index\",\n",
        "            \"category\": row['category'],\n",
        "            \"year_month\": str(row['year_month']),\n",
        "            \"value\": round(float(row['OI']), 2),\n",
        "            \"trend\": row['trend']\n",
        "        })\n",
        "\n",
        "    return json.dumps(results, indent=4, ensure_ascii=False)"
      ]
    },
    {
      "cell_type": "code",
      "execution_count": null,
      "id": "5YRm8ecw1Nvk",
      "metadata": {
        "id": "5YRm8ecw1Nvk"
      },
      "outputs": [],
      "source": [
        "print(detect_unstable_categories(f'{CSV_PATH}'))"
      ]
    }
  ],
  "metadata": {
    "colab": {
      "provenance": []
    },
    "kernelspec": {
      "display_name": "Python 3",
      "name": "python3"
    },
    "language_info": {
      "name": "python"
    }
  },
  "nbformat": 4,
  "nbformat_minor": 5
}
